{
 "cells": [
  {
   "cell_type": "code",
   "execution_count": null,
   "metadata": {
    "collapsed": true,
    "pycharm": {}
   },
   "outputs": [],
   "source": [
    "# Python Adv\n",
    "\n",
    "## OOP `__slots__`"
   ]
  },
  {
   "cell_type": "markdown",
   "metadata": {
    "pycharm": {
     "metadata": false
    }
   },
   "source": [
    "## Python 的动态绑定 \n",
    "\n",
    "> `Dynamitcally created attributes`"
   ]
  },
  {
   "cell_type": "code",
   "execution_count": null,
   "metadata": {
    "pycharm": {
     "metadata": false,
     "name": "#%%\n"
    }
   },
   "outputs": [],
   "source": [
    "class Human(object):\n",
    "    pass\n",
    "\n",
    "\n",
    "tom = Human()\n",
    "tom.name = 'Tom'\n",
    "\n",
    "tom.name"
   ]
  },
  {
   "cell_type": "code",
   "execution_count": null,
   "metadata": {
    "pycharm": {
     "metadata": false,
     "name": "#%%\n"
    }
   },
   "outputs": [],
   "source": [
    "from types import MethodType\n",
    "\n",
    "def get_name(self):\n",
    "    return self.name\n",
    "\n",
    "tom.get_name = MethodType(get_name, tom)\n",
    "\n",
    "tom.get_name()"
   ]
  },
  {
   "cell_type": "code",
   "execution_count": null,
   "metadata": {
    "pycharm": {
     "metadata": false,
     "name": "#%%\n"
    }
   },
   "outputs": [],
   "source": [
    "def test(self):\n",
    "    print('test...')\n",
    "    \n",
    "    \n",
    "Human.test = test\n",
    "\n",
    "jerry = Human()\n",
    "\n",
    "jerry.test()"
   ]
  },
  {
   "cell_type": "markdown",
   "metadata": {
    "pycharm": {
     "metadata": false
    }
   },
   "source": [
    "## `__slots__` 限制动态绑定属性\n",
    "\n",
    "> 仅对当前类起作用，对子类不起作用\n",
    "\n",
    "> `Faster attribute access`\n",
    "\n",
    "> `Space savings in memory`"
   ]
  },
  {
   "cell_type": "code",
   "execution_count": null,
   "metadata": {
    "pycharm": {
     "metadata": false,
     "name": "#%%\n"
    }
   },
   "outputs": [],
   "source": [
    "class Human(object):\n",
    "    __slots__ = ('name', 'age', 'gender')"
   ]
  },
  {
   "cell_type": "code",
   "execution_count": null,
   "metadata": {
    "pycharm": {
     "metadata": false,
     "name": "#%%\n"
    }
   },
   "outputs": [],
   "source": [
    "tom = Human()\n",
    "tom.name = 'Tom'\n",
    "\n",
    "tom.name"
   ]
  },
  {
   "cell_type": "code",
   "execution_count": null,
   "metadata": {
    "pycharm": {
     "metadata": false,
     "name": "#%%\n"
    }
   },
   "outputs": [],
   "source": [
    "jerry = Human()\n",
    "jerry.height = 1.6\n",
    "\n",
    "jerry.height"
   ]
  },
  {
   "cell_type": "markdown",
   "metadata": {
    "pycharm": {
     "metadata": false
    }
   },
   "source": [
    "## 练习 \n",
    "\n",
    "> 仅对当前类起作用，对子类不起作用\n",
    "\n",
    "## 自学\n",
    "\n",
    "> `timeit` `repeat()`\n",
    "\n",
    "> `sys` `getsizeof()`"
   ]
  },
  {
   "cell_type": "raw",
   "metadata": {
    "pycharm": {
     "metadata": false
    }
   },
   "source": [
    "# 验证 __slots__ 对子类不起作用\n"
   ]
  },
  {
   "cell_type": "code",
   "execution_count": null,
   "metadata": {
    "pycharm": {
     "metadata": false,
     "name": "#%%\n"
    }
   },
   "outputs": [],
   "source": [
    "class Human(object):\n",
    "    \n",
    "    __slots__ = ('name',)\n",
    "    \n",
    "tom = Human()\n",
    "\n",
    "tom.name = 'Tom'\n",
    "\n",
    "tom.name\n",
    "\n",
    "# tom.age = 18\n",
    "\n",
    "# tom.age\n",
    "\n",
    "class Chinese(Human):\n",
    "    __slots__ = Human.__slots__\n",
    "#     __slots__ = ('test',)\n",
    "    pass\n",
    "\n",
    "jerry = Chinese()\n",
    "\n",
    "jerry.name = 'Jerry'\n",
    "\n",
    "jerry.name\n",
    "\n",
    "# jerry.age = 19\n",
    "\n",
    "# jerry.age\n",
    "\n",
    "# jerry.gender = 'female'\n",
    "\n",
    "# jerry.gender"
   ]
  }
 ],
 "metadata": {
  "kernelspec": {
   "display_name": "Python 3",
   "language": "python",
   "name": "python3"
  },
  "language_info": {
   "codemirror_mode": {
    "name": "ipython",
    "version": 3
   },
   "file_extension": ".py",
   "mimetype": "text/x-python",
   "name": "python",
   "nbconvert_exporter": "python",
   "pygments_lexer": "ipython3",
   "version": "3.7.3"
  }
 },
 "nbformat": 4,
 "nbformat_minor": 1
}
