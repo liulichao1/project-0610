{
  "cells": [
    {
      "cell_type": "code",
      "execution_count": null,
      "metadata": {
        "collapsed": true,
        "pycharm": {}
      },
      "outputs": [],
      "source": "# Python Logging\n\n\u003e `logging` 内置模块"
    },
    {
      "cell_type": "raw",
      "source": "import logging",
      "metadata": {
        "pycharm": {
          "metadata": false
        }
      }
    },
    {
      "cell_type": "markdown",
      "source": "## 日志输出\n\n1. 输出位置：默认输出到控制台\n2. 输出格式：日志级别:日志实例名称:日志消息内容",
      "metadata": {
        "pycharm": {
          "metadata": false
        }
      }
    },
    {
      "cell_type": "raw",
      "source": "logging.warning(\u0027warning...\u0027)",
      "metadata": {
        "pycharm": {
          "metadata": false
        }
      }
    },
    {
      "cell_type": "markdown",
      "source": "## 日志级别\n\n\u003e DEBUG \u003e INFO \u003e WARNING \u003e ERROR \u003e CRITICAL\n\n\u003e 默认为 WARNING",
      "metadata": {
        "pycharm": {
          "metadata": false
        }
      }
    },
    {
      "cell_type": "raw",
      "source": "logging.info(\u0027info...\u0027)",
      "metadata": {
        "pycharm": {
          "metadata": false
        }
      }
    },
    {
      "cell_type": "markdown",
      "source": "## 基本配置",
      "metadata": {
        "pycharm": {
          "metadata": false
        }
      }
    },
    {
      "cell_type": "raw",
      "source": "import logging\n\nlogging.basicConfig(level\u003dlogging.DEBUG)\n\nlogging.debug(\u0027debug...\u0027)\nlogging.info(\u0027info...\u0027)\nlogging.warning(\u0027warning...\u0027)\nlogging.error(\u0027error...\u0027)\nlogging.critical(\u0027critical...\u0027)",
      "metadata": {
        "pycharm": {
          "metadata": false
        }
      }
    },
    {
      "cell_type": "markdown",
      "source": "## 重要概念\n\n1. `Logger` 记录器：暴露了应用程序代码能直接使用的接口\n2. `Handler` 处理器：将（记录器产生的）日志记录发送到的目的地\n3. `Filter` 过滤器：提供了更好的粒度控制，决定输出哪些日志记录\n4. `Formatter` 格式化器：指明了最终输出中日志记录信息的格式布局",
      "metadata": {
        "pycharm": {
          "metadata": false
        }
      }
    },
    {
      "cell_type": "raw",
      "source": "#!/usr/bin/env python\n# -*- coding: UTF-8 -*-\n\n# @Time     : 6/14/2019 16:07\n# @Author   : mingfei.net@gmail.com\n# @FileName : logging_test.py\n# @GitHub   : https://github.com/thu/project-0610\n\nimport logging\n\n# 1. create logger\nname \u003d \u0027test\u0027\nlogger \u003d logging.getLogger(name)\nlogger.setLevel(logging.DEBUG)  # ***\n\n# 2. create handler\nfilename \u003d \u0027logging.log\u0027\nfile_handler \u003d logging.FileHandler(filename)\nfile_handler.setLevel(logging.WARNING)\n\nstream_handler \u003d logging.StreamHandler()\nstream_handler.setLevel(logging.DEBUG)\n\n# 3. create formatter\nfmt \u003d \"%(asctime)-15s %(levelname)s %(filename)s %(lineno)d %(process)d %(message)s\"\ndatefmt \u003d \"%a %d %b %Y %H:%M:%S\"\nformatter \u003d logging.Formatter(fmt, datefmt)\n\n# 4. add formatter to handler\nfile_handler.setFormatter(formatter)\nstream_handler.setFormatter(formatter)\n\n# 5. add handler to logger\nlogger.addHandler(file_handler)\nlogger.addHandler(stream_handler)\n\nlogger.debug(\u0027debug...\u0027)\nlogger.info(\u0027info...\u0027)\nlogger.warning(\u0027warning...\u0027)\nlogger.error(\u0027error...\u0027)\nlogger.critical(\u0027critical...\u0027)\n",
      "metadata": {
        "pycharm": {
          "metadata": false
        }
      }
    }
  ],
  "metadata": {
    "language_info": {
      "codemirror_mode": {
        "name": "ipython",
        "version": 2
      },
      "file_extension": ".py",
      "mimetype": "text/x-python",
      "name": "python",
      "nbconvert_exporter": "python",
      "pygments_lexer": "ipython2",
      "version": "2.7.6"
    },
    "kernelspec": {
      "name": "python3",
      "language": "python",
      "display_name": "Python 3"
    }
  },
  "nbformat": 4,
  "nbformat_minor": 0
}