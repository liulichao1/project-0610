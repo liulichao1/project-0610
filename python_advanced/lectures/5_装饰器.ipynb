{
 "cells": [
  {
   "cell_type": "code",
   "execution_count": 2,
   "metadata": {
    "ExecuteTime": {
     "end_time": "2019-06-14T01:13:33.441274Z",
     "start_time": "2019-06-14T01:13:33.434280Z"
    }
   },
   "outputs": [
    {
     "name": "stdout",
     "output_type": "stream",
     "text": [
      "--- come in function hi ---\n",
      "function hi_a\n",
      "function hi_b\n",
      "--- back in function hi ---\n"
     ]
    }
   ],
   "source": [
    "def hi(name = \"Python\"):\n",
    "    print('---','come in function hi','---')\n",
    "    \n",
    "    def hi_a():\n",
    "        return 'function hi_a'\n",
    "    \n",
    "    def hi_b():\n",
    "        return 'function hi_b'\n",
    "    \n",
    "    print(hi_a())\n",
    "    print(hi_b())\n",
    "    print('---','back in function hi','---')\n",
    "    \n",
    "hi()\n",
    "    "
   ]
  },
  {
   "cell_type": "code",
   "execution_count": 6,
   "metadata": {
    "ExecuteTime": {
     "end_time": "2019-06-14T01:17:47.678379Z",
     "start_time": "2019-06-14T01:17:47.670383Z"
    }
   },
   "outputs": [
    {
     "data": {
      "text/plain": [
       "'function hi_a'"
      ]
     },
     "execution_count": 6,
     "metadata": {},
     "output_type": "execute_result"
    }
   ],
   "source": [
    "def hi(name='Python'):\n",
    "    \n",
    "    def hi_a():\n",
    "        return 'function hi_a'\n",
    "    \n",
    "    def hi_b():\n",
    "        return 'function hi_b'\n",
    "    \n",
    "    if name == 'Python':\n",
    "        return hi_a\n",
    "    else:\n",
    "        return hi_b\n",
    "    \n",
    "a = hi()\n",
    "a()"
   ]
  },
  {
   "cell_type": "code",
   "execution_count": 8,
   "metadata": {
    "ExecuteTime": {
     "end_time": "2019-06-14T01:26:07.374818Z",
     "start_time": "2019-06-14T01:26:07.313856Z"
    }
   },
   "outputs": [
    {
     "data": {
      "text/plain": [
       "'function hi_a'"
      ]
     },
     "execution_count": 8,
     "metadata": {},
     "output_type": "execute_result"
    }
   ],
   "source": [
    "hi()()"
   ]
  },
  {
   "cell_type": "code",
   "execution_count": 10,
   "metadata": {
    "ExecuteTime": {
     "end_time": "2019-06-14T01:46:17.001077Z",
     "start_time": "2019-06-14T01:46:16.996080Z"
    }
   },
   "outputs": [
    {
     "name": "stdout",
     "output_type": "stream",
     "text": [
      "do something before a function\n",
      "hi Python\n"
     ]
    }
   ],
   "source": [
    "def hi(name='Python'):\n",
    "    print('hi',name)\n",
    "    \n",
    "def before(func):\n",
    "    print('do something before a function')\n",
    "    func()\n",
    "    \n",
    "before(hi)"
   ]
  },
  {
   "cell_type": "code",
   "execution_count": 2,
   "metadata": {
    "ExecuteTime": {
     "end_time": "2019-06-14T06:38:49.608394Z",
     "start_time": "2019-06-14T06:38:49.600399Z"
    }
   },
   "outputs": [
    {
     "name": "stdout",
     "output_type": "stream",
     "text": [
      "foo before...\n",
      "function foo...\n",
      "foo before...\n"
     ]
    }
   ],
   "source": [
    "class FooDecorator(object):\n",
    "    \n",
    "    def __init__(self, func):\n",
    "        self.func = func\n",
    "        \n",
    "    def __call__(self):\n",
    "        print(self.func.__name__, 'before...')\n",
    "        self.func()\n",
    "        print(self.func.__name__, 'before...')\n",
    "        \n",
    "@FooDecorator\n",
    "def foo():\n",
    "    print('function foo...')\n",
    "    \n",
    "foo()"
   ]
  },
  {
   "cell_type": "code",
   "execution_count": 5,
   "metadata": {
    "ExecuteTime": {
     "end_time": "2019-06-14T06:47:36.373847Z",
     "start_time": "2019-06-14T06:47:36.364853Z"
    }
   },
   "outputs": [
    {
     "name": "stdout",
     "output_type": "stream",
     "text": [
      "foo before...\n",
      "a\n",
      "b\n",
      "c\n",
      "1\n",
      "2\n",
      "3\n",
      "True\n",
      "False\n",
      "foo after...\n"
     ]
    }
   ],
   "source": [
    "class FooDecorator(object):\n",
    "    \n",
    "    def __init__(self,func):\n",
    "        self.func = func\n",
    "        \n",
    "    def __call__(self,*args,**kwargs):\n",
    "        print(self.func.__name__,'before...')\n",
    "        self.func(*args,**kwargs)\n",
    "        print(self.func.__name__,'after...')\n",
    "        \n",
    "@FooDecorator\n",
    "def foo(*args):\n",
    "    for arg in args:\n",
    "        print(arg)\n",
    "    \n",
    "foo('a','b','c',1,2,3,True,False)"
   ]
  }
 ],
 "metadata": {
  "kernelspec": {
   "display_name": "Python 3",
   "language": "python",
   "name": "python3"
  },
  "language_info": {
   "codemirror_mode": {
    "name": "ipython",
    "version": 3
   },
   "file_extension": ".py",
   "mimetype": "text/x-python",
   "name": "python",
   "nbconvert_exporter": "python",
   "pygments_lexer": "ipython3",
   "version": "3.7.3"
  }
 },
 "nbformat": 4,
 "nbformat_minor": 2
}
