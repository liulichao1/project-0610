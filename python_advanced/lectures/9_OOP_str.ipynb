{
  "cells": [
    {
      "cell_type": "code",
      "execution_count": null,
      "metadata": {
        "collapsed": true,
        "pycharm": {}
      },
      "outputs": [],
      "source": "# Python Adv\n\n## OOP `__str__`"
    },
    {
      "cell_type": "code",
      "execution_count": null,
      "outputs": [],
      "source": "class Human(object):\n    def __init__(self, name):\n        self.name \u003d name\n        \n    def __str__(self):\n        return \u0027Name: %s\u0027 % self.name\n    \n    __repr__ \u003d __str__\n\ntom \u003d Human(\u0027Tom\u0027)\n\n# print(tom)\n\ntom\n\n\n\n# public class Human extends Object { // toString\n\n#     private String name;\n    \n#     public Human(String name){\n        \n#         this.name \u003d name;\n#     }\n    \n#     public String toString() {\n#         return \"Name: \" + this.name\n    \n#     }\n# }\n\n# public static void main(String[] args) {\n    \n#     tom \u003d new Human(\"Tom\");\n\n#     System.out.println(tom); // packages.Human HEX...  Name: Tom\n# }\n",
      "metadata": {
        "pycharm": {
          "metadata": false,
          "name": "#%%\n"
        }
      }
    }
  ],
  "metadata": {
    "language_info": {
      "codemirror_mode": {
        "name": "ipython",
        "version": 2
      },
      "file_extension": ".py",
      "mimetype": "text/x-python",
      "name": "python",
      "nbconvert_exporter": "python",
      "pygments_lexer": "ipython2",
      "version": "2.7.6"
    },
    "kernelspec": {
      "name": "python3",
      "language": "python",
      "display_name": "Python 3"
    }
  },
  "nbformat": 4,
  "nbformat_minor": 0
}