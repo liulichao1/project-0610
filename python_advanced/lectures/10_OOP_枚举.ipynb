{
  "cells": [
    {
      "cell_type": "code",
      "execution_count": null,
      "metadata": {
        "collapsed": true,
        "pycharm": {}
      },
      "outputs": [],
      "source": "# Python Adv\n\n## OOP `__str__`"
    },
    {
      "cell_type": "code",
      "execution_count": null,
      "outputs": [],
      "source": "from enum import Enum\n\nMonth \u003d Enum(\u0027Month\u0027, (\u0027Jan\u0027, \u0027Feb\u0027, \u0027Mar\u0027, \u0027Apr\u0027, \u0027May\u0027, \u0027Jun\u0027, \u0027Jul\u0027, \u0027Aug\u0027,\n                       \u0027Sep\u0027, \u0027Oct\u0027, \u0027Nov\u0027, \u0027Dec\u0027))\n\nMonth.Jun",
      "metadata": {
        "pycharm": {
          "metadata": false,
          "name": "#%%\n"
        }
      }
    },
    {
      "cell_type": "code",
      "execution_count": null,
      "outputs": [],
      "source": "for name, member in Month.__members__.items():\n    print(name, \u0027-\u003e\u0027, member, member.value)  # value from 1",
      "metadata": {
        "pycharm": {
          "metadata": false,
          "name": "#%%\n"
        }
      }
    },
    {
      "cell_type": "code",
      "execution_count": null,
      "outputs": [],
      "source": "from enum import Enum, unique\n\n\n@unique\nclass Weekday(Enum):\n    Sun \u003d 0\n    Mon \u003d 1\n    Tue \u003d 2\n    Wed \u003d 3\n    Thu \u003d 4\n    Fri \u003d 5\n    Sat \u003d 6\n    \n    \nWeekday",
      "metadata": {
        "pycharm": {
          "metadata": false,
          "name": "#%%\n"
        }
      }
    },
    {
      "cell_type": "code",
      "execution_count": null,
      "outputs": [],
      "source": "for name, member in Weekday.__members__.items():\n    print(name, \u0027-\u003e\u0027, member, member.value)",
      "metadata": {
        "pycharm": {
          "metadata": false,
          "name": "#%%\n"
        }
      }
    },
    {
      "cell_type": "code",
      "execution_count": null,
      "outputs": [],
      "source": "print(Weekday.Thu)",
      "metadata": {
        "pycharm": {
          "metadata": false,
          "name": "#%%\n"
        }
      }
    },
    {
      "cell_type": "code",
      "execution_count": null,
      "outputs": [],
      "source": "print(Weekday[\u0027Thu\u0027])",
      "metadata": {
        "pycharm": {
          "metadata": false,
          "name": "#%%\n"
        }
      }
    },
    {
      "cell_type": "code",
      "execution_count": null,
      "outputs": [],
      "source": "print(Weekday(4))",
      "metadata": {
        "pycharm": {
          "metadata": false,
          "name": "#%%\n"
        }
      }
    },
    {
      "cell_type": "code",
      "execution_count": null,
      "outputs": [],
      "source": "print(Weekday.Thu.value)",
      "metadata": {
        "pycharm": {
          "metadata": false,
          "name": "#%%\n"
        }
      }
    },
    {
      "cell_type": "code",
      "execution_count": null,
      "outputs": [],
      "source": "Weekday.Thu \u003d 44\n\nWeekday.Thu.value",
      "metadata": {
        "pycharm": {
          "metadata": false,
          "name": "#%%\n"
        }
      }
    },
    {
      "cell_type": "code",
      "execution_count": null,
      "outputs": [],
      "source": "print(Weekday(7))",
      "metadata": {
        "pycharm": {
          "metadata": false,
          "name": "#%%\n"
        }
      }
    }
  ],
  "metadata": {
    "language_info": {
      "codemirror_mode": {
        "name": "ipython",
        "version": 2
      },
      "file_extension": ".py",
      "mimetype": "text/x-python",
      "name": "python",
      "nbconvert_exporter": "python",
      "pygments_lexer": "ipython2",
      "version": "2.7.6"
    },
    "kernelspec": {
      "name": "python3",
      "language": "python",
      "display_name": "Python 3"
    }
  },
  "nbformat": 4,
  "nbformat_minor": 0
}