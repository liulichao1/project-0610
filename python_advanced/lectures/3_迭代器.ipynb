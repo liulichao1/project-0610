{
  "cells": [
    {
      "cell_type": "code",
      "execution_count": null,
      "metadata": {
        "collapsed": true,
        "pycharm": {}
      },
      "outputs": [],
      "source": "# Python Adv.\n\n## 迭代器 "
    },
    {
      "cell_type": "markdown",
      "source": "### 可迭代对象：可以直接作用于 for 循环的对象 `Iterable`\n\n`list / tuple / dict / set / str / generator`",
      "metadata": {
        "pycharm": {
          "metadata": false
        }
      }
    },
    {
      "cell_type": "code",
      "execution_count": 5,
      "outputs": [
        {
          "data": {
            "text/plain": "True"
          },
          "metadata": {},
          "output_type": "execute_result",
          "execution_count": 5
        }
      ],
      "source": "# isinstance()\n\nfrom collections import Iterable\n\nisinstance([], Iterable)",
      "metadata": {
        "pycharm": {
          "metadata": false,
          "name": "#%%\n",
          "is_executing": false
        }
      }
    },
    {
      "cell_type": "code",
      "execution_count": 6,
      "outputs": [
        {
          "data": {
            "text/plain": "True"
          },
          "metadata": {},
          "output_type": "execute_result",
          "execution_count": 6
        }
      ],
      "source": "isinstance((x for x in range(1, 11)), Iterable)",
      "metadata": {
        "pycharm": {
          "metadata": false,
          "name": "#%%\n",
          "is_executing": false
        }
      }
    },
    {
      "cell_type": "markdown",
      "source": "### 迭代器：可以被 next() 调用并不断返回下一个值的对象\n\n**惰性计算序列**\n\n`Generator`",
      "metadata": {
        "pycharm": {
          "metadata": false
        }
      }
    },
    {
      "cell_type": "code",
      "execution_count": 8,
      "outputs": [
        {
          "data": {
            "text/plain": "False"
          },
          "metadata": {},
          "output_type": "execute_result",
          "execution_count": 8
        }
      ],
      "source": "from collections import Iterator\n\nisinstance([], Iterator)",
      "metadata": {
        "pycharm": {
          "metadata": false,
          "name": "#%%\n",
          "is_executing": false
        }
      }
    },
    {
      "cell_type": "code",
      "execution_count": 9,
      "outputs": [
        {
          "data": {
            "text/plain": "True"
          },
          "metadata": {},
          "output_type": "execute_result",
          "execution_count": 9
        }
      ],
      "source": "isinstance((x for x in range(1, 11)), Iterator)",
      "metadata": {
        "pycharm": {
          "metadata": false,
          "name": "#%%\n",
          "is_executing": false
        }
      }
    },
    {
      "cell_type": "markdown",
      "source": "### Iterable 转为 Iterator\n\n`iter`",
      "metadata": {
        "pycharm": {
          "metadata": false
        }
      }
    },
    {
      "cell_type": "code",
      "execution_count": 12,
      "outputs": [
        {
          "data": {
            "text/plain": "1"
          },
          "metadata": {},
          "output_type": "execute_result",
          "execution_count": 12
        }
      ],
      "source": "isinstance(iter([]), Iterator)",
      "metadata": {
        "pycharm": {
          "metadata": false,
          "name": "#%%\n",
          "is_executing": false
        }
      }
    },
    {
      "cell_type": "markdown",
      "source": "## 练习\n\n\u003e Iterable 的本质\n\n    1. 实现了 __iter__ 方法，返回一个 Iterator\n    2. 实现了 __next__ 方法，Iterator 调用此方法返回元素\n\n\u003e for 循环的本质\n\n    1. 判断对象是否为 Iterable\n        - 不是，TypeError: \u0027some\u0027 object is not Iterable\n        - 是，调用 __iter__，返回一个 Iterator\n    2. 调用 Iterator 的 __next__ 方法，依次返回元素\n    3. 迭代到最后，抛出 StopIterator 异常，异常自行处理\n\n",
      "metadata": {
        "pycharm": {
          "metadata": false
        }
      }
    },
    {
      "cell_type": "code",
      "execution_count": null,
      "outputs": [],
      "source": "test \u003d [1, 2, 3]  # Iterable\ng \u003d test.__iter__()\ng.__next__()\ng.__next__()\ng.__next__()\ng.__next__()",
      "metadata": {
        "pycharm": {
          "metadata": false,
          "name": "#%%\n"
        }
      }
    },
    {
      "cell_type": "code",
      "execution_count": 13,
      "outputs": [
        {
          "name": "stdout",
          "text": [
            "0\n1\n2\n3\n4\n5\n6\n7\n8\n9\n"
          ],
          "output_type": "stream"
        }
      ],
      "source": "class Test(object):\n    \n    def __init__(self, n):\n        self.i \u003d 0\n        self.n \u003d n\n    \n    def __iter__(self):\n        return self\n    \n    def __next__(self):\n        if self.i \u003c self.n:\n            temp \u003d self.i\n            self.i \u003d self.i + 1\n            return temp\n        else:\n            raise StopIteration(\u0027StopIteration...\u0027)\n\nt \u003d Test(10)\n\nfor i in t:\n    print(i)",
      "metadata": {
        "pycharm": {
          "metadata": false,
          "name": "#%%\n",
          "is_executing": false
        }
      }
    }
  ],
  "metadata": {
    "language_info": {
      "codemirror_mode": {
        "name": "ipython",
        "version": 2
      },
      "file_extension": ".py",
      "mimetype": "text/x-python",
      "name": "python",
      "nbconvert_exporter": "python",
      "pygments_lexer": "ipython2",
      "version": "2.7.6"
    },
    "kernelspec": {
      "name": "python3",
      "language": "python",
      "display_name": "Python 3"
    }
  },
  "nbformat": 4,
  "nbformat_minor": 0
}