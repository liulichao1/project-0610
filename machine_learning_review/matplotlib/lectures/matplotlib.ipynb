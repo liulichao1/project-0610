#%% md
# Matplotlib

> Python 的 2D 图形库
#%% md
## Install

```
conda install matplotlib
```
#%% md
## Import
#%%
import matplotlib.pyplot as plt

type(plt)
#%% md
## Basic
#%%
plt.plot([1, 2, 3, 4])
plt.xlabel('test X label')
plt.ylabel('test Y label')
plt.show()
#%% md
## Func:plot

```
plot(x, y)
```
#%%
plt.plot([1, 2, 3, 4], [1, 4, 9, 16])
plt.show()
#%% md
## Color / Type

Color：

字符 | 颜色
-- | --
`‘b’`|	blue
`‘g’`|	green
`‘r’`|	red
`‘c’`|	cyan
`‘m’`|	magenta
`‘y’`|	yellow
`‘k’`|	black
`‘w’`|	white

Type：

字符|类型 | 字符|类型
---|--- | --- | ---
`  '-'	`| 实线 | `'--'`|	虚线
`'-.'`|	虚点线 | `':'`|	点线
`'.'`|	点 | `','`| 像素点
`'o'`	|圆点 | `'v'`|	下三角点
`'^'`|	上三角点 | `'<'`|	左三角点
`'>'`|	右三角点 | `'1'`|	下三叉点
`'2'`|	上三叉点 | `'3'`|	左三叉点
`'4'`|	右三叉点 | `'s'`|	正方点
`'p'`	| 五角点 | `'*'`|	星形点
`'h'`|	六边形点1 | `'H'`|	六边形点2
`'+'`|	加号点 | `'x'`|	乘号点
`'D'`|	实心菱形点 | `'d'`|	瘦菱形点
`'_'`|	横线点 |
#%%
plt.plot([1, 2, 3, 4], [1, 4, 9, 16], 'ro')
plt.show()
#%% md
## Axis

```
axis([xmin, xmax, ymin, ymax])
```
#%%
plt.plot([1, 2, 3, 4], [1, 4, 9, 16], 'ro')
plt.axis([0, 6, 0, 20])
plt.show()
#%% md
## Multiple datas
#%%
plt.plot([1, 2, 3, 4], [1, 4, 9, 16], 'ro', [1, 2, 3, 4], [5, 6, 7, 8], 'b--')
plt.axis([0, 6, 0, 20])
plt.show()
#%% md
## Numpy
#%%
import numpy as np

a = np.arange(0, 5, 0.2)
# a

plt.plot(a, a, 'r_', a, a**2, 'gs', a, a**3, 'b^')
plt.show()